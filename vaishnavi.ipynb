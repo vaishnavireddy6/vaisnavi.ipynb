{
  "nbformat": 4,
  "nbformat_minor": 0,
  "metadata": {
    "colab": {
      "provenance": []
    },
    "kernelspec": {
      "name": "python3",
      "display_name": "Python 3"
    },
    "language_info": {
      "name": "python"
    }
  },
  "cells": [
    {
      "cell_type": "code",
      "execution_count": 3,
      "metadata": {
        "colab": {
          "base_uri": "https://localhost:8080/"
        },
        "id": "VLssgeZb0BhG",
        "outputId": "f2d11f69-4b3f-4db1-baed-dbb98f4b2c56"
      },
      "outputs": [
        {
          "output_type": "stream",
          "name": "stdout",
          "text": [
            "Average salary of fulltimeemployees: 165000.0\n",
            "Average salary of employees: 73000.0\n"
          ]
        }
      ],
      "source": [
        "class Employee:\n",
        "    no_of_employees = 0\n",
        "\n",
        "    def __init__(self, name, family, salary, department):\n",
        "        self.name = name\n",
        "        self.family = family\n",
        "        self.salary = salary\n",
        "        self.department = department\n",
        "        Employee.no_of_employees += 1\n",
        "\n",
        "    @staticmethod\n",
        "    def average_salary(femployees, n):\n",
        "        add = 0\n",
        "        for employee in femployees:\n",
        "            add += employee.salary\n",
        "        return add / n\n",
        "\n",
        "\n",
        "class FulltimeEmployee(Employee):\n",
        "    def __init__(self, name, family, salary, department):\n",
        "        super().__init__(name, family, salary, department)\n",
        "\n",
        "def main():\n",
        "    femployees = []\n",
        "    employees = []\n",
        "    femp1 = FulltimeEmployee(\"Kiran\", \"Kumar\", 145000, \"Team Lead\")\n",
        "    femployees.append(femp1)\n",
        "    femp2 = FulltimeEmployee(\"Manideep\", \"Reddy\", 180000, \"Delivery Manager\")\n",
        "    femployees.append(femp2)\n",
        "    femp3 = FulltimeEmployee(\"Sushma\", \"Shetty\", 155000, \"Project Lead\")\n",
        "    femployees.append(femp3)\n",
        "    femp4 = FulltimeEmployee(\"Vaishnavi\", \"Reddy\", 180000, \"hr\")\n",
        "    femployees.append(femp4)\n",
        "    employee1 = Employee(\"Mahitha\", \"Reddy\", 96000, \"Developer\")\n",
        "    employees.append(employee1)\n",
        "    employee2 = Employee(\"Bharat\", \"Kumar\", 50000, \"Tester\")\n",
        "    employees.append(employee2)\n",
        "    print(\"Average salary of fulltimeemployees:\", FulltimeEmployee.average_salary(femployees, (len(femployees))))\n",
        "    print(\"Average salary of employees:\", Employee.average_salary(employees, (len(employees))))\n",
        "\n",
        "if __name__ == \"__main__\":\n",
        "    main()"
      ]
    },
    {
      "cell_type": "code",
      "source": [
        "class Employee:\n",
        "    no_of_employees = 0\n",
        "\n",
        "    def __init__(self, name, family, salary, department):\n",
        "        self.name = name\n",
        "        self.family = family\n",
        "        self.salary = salary\n",
        "        self.department = department\n",
        "        Employee.no_of_employees += 1\n",
        "\n",
        "    @staticmethod\n",
        "    def average_salary(femployees, n):\n",
        "        add = 0\n",
        "        for employee in femployees:\n",
        "            add += employee.salary\n",
        "        return add / n\n",
        "\n",
        "\n",
        "class FulltimeEmployee(Employee):\n",
        "    def __init__(self, name, family, salary, department):\n",
        "        super().__init__(name, family, salary, department)\n",
        "\n",
        "def main():\n",
        "    femployees = []\n",
        "    employees = []\n",
        "    femp1 = FulltimeEmployee(\"Kiran\", \"Kumar\", 145000, \"Team Lead\")\n",
        "    femployees.append(femp1)\n",
        "    femp2 = FulltimeEmployee(\"Manideep\", \"Reddy\", 180000, \"Delivery Manager\")\n",
        "    femployees.append(femp2)\n",
        "    femp3 = FulltimeEmployee(\"Sushma\", \"Shetty\", 155000, \"Project Lead\")\n",
        "    femployees.append(femp3)\n",
        "    femp4 = FulltimeEmployee(\"Vaishnavi\", \"Reddy\", 180000, \"hr\")\n",
        "    femployees.append(femp4)\n",
        "    employee1 = Employee(\"Mahitha\", \"Reddy\", 96000, \"Developer\")\n",
        "    employees.append(employee1)\n",
        "    employee2 = Employee(\"Bharat\", \"Kumar\", 50000, \"Tester\")\n",
        "    employees.append(employee2)\n",
        "    print(\"Average salary of fulltimeemployees:\", FulltimeEmployee.average_salary(femployees, (len(femployees))))\n",
        "    print(\"Average salary of employees:\", Employee.average_salary(employees, (len(employees))))\n",
        "\n",
        "if __name__ == \"__main__\":\n",
        "    main()"
      ],
      "metadata": {
        "colab": {
          "base_uri": "https://localhost:8080/"
        },
        "id": "PjkGIJed0gv-",
        "outputId": "695e071a-3e9a-4ec3-dd67-a5d86cd80228"
      },
      "execution_count": 4,
      "outputs": [
        {
          "output_type": "stream",
          "name": "stdout",
          "text": [
            "Average salary of fulltimeemployees: 165000.0\n",
            "Average salary of employees: 73000.0\n"
          ]
        }
      ]
    },
    {
      "cell_type": "code",
      "source": [
        "import numpy as np\n",
        "z = np.random.uniform(1, 20, 20)\n",
        "m = z.reshape(4, 5)\n",
        "print(m)\n",
        "\n",
        "m = np.where(m == np.max(m, axis=1, keepdims=True), 0, m)\n",
        "print(m)\n"
      ],
      "metadata": {
        "colab": {
          "base_uri": "https://localhost:8080/"
        },
        "id": "3u_d446m1SzA",
        "outputId": "2ff53c33-09ac-49e2-f736-ed98c45ca86f"
      },
      "execution_count": 5,
      "outputs": [
        {
          "output_type": "stream",
          "name": "stdout",
          "text": [
            "[[15.95386355  3.44342758 14.01136201  7.33465021 14.73015806]\n",
            " [13.00611984  1.55381051 17.4117452   8.42964631 11.47316555]\n",
            " [ 5.14200628 11.28301668 15.45666762 12.64556865  5.42561603]\n",
            " [10.04394295 12.22636677 15.42041354  9.6046746  17.74351   ]]\n",
            "[[ 0.          3.44342758 14.01136201  7.33465021 14.73015806]\n",
            " [13.00611984  1.55381051  0.          8.42964631 11.47316555]\n",
            " [ 5.14200628 11.28301668  0.         12.64556865  5.42561603]\n",
            " [10.04394295 12.22636677 15.42041354  9.6046746   0.        ]]\n"
          ]
        }
      ]
    }
  ]
}